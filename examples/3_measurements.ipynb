{
 "cells": [
  {
   "cell_type": "markdown",
   "metadata": {},
   "source": [
    "# Tutorial 3: The measpy.Measurement class\n",
    "\n",
    "To do.\n",
    "See README.md for now.\n"
   ]
  },
  {
   "cell_type": "markdown",
   "metadata": {},
   "source": [
    "```Measurement``` is a class that describe a data acquisition process, its outputs (Signal objects), its inputs (Signal objects)...\n",
    "\n",
    "The main properties that define a measurement are:\n",
    "- The type of data acquisition device ```device_type``` ('ni', 'pico' or 'audio')\n",
    "- The input and output devices (```in_device``` and ```out_device``` resp.) as string\n",
    "- The sampling frequency ```fs```\n",
    "- The mapping of the inputs ```in_map``` as a list of input numbers\n",
    "- Same for outputs (```out_map```)\n",
    "- The list of input signals ```in_sig``` in which the data is recorded (same length as ```in_map```)\n",
    "- Same for the list of output signals ```out_sig```\n",
    "\n",
    "There are other properties, specific to the type of device that is used.\n",
    "\n",
    "Defining a measurement task consists of creating empty signals for acquired signals, and signals that are sent to the outputs. Next the measurement is initialised, and finally run.\n",
    "\n",
    "Here is an example for a typical one output (white noise), two inputs measurement with a NI card whose name is 'Dev1':"
   ]
  },
  {
   "cell_type": "code",
   "execution_count": null,
   "metadata": {},
   "outputs": [],
   "source": [
    "import measpy as mp\n",
    "from measpy.ni import ni_run_measurement\n",
    "\n",
    "FS = 44100\n",
    "\n",
    "sout = mp.Signal.noise(fs=FS, dur=5.)\n",
    "sin1 = mp.Signal(fs=FS)\n",
    "sin2 = mp.Signal(fs=FS)\n",
    "\n",
    "M = mp.Measurement(device_type='ni',\n",
    "                    in_device='Dev1',\n",
    "                    out_device='Dev1',\n",
    "                    in_sig=[sin1,sin2],\n",
    "                    in_map=[1,2],       # First two inputs are used\n",
    "                    out_sig=[sout],\n",
    "                    out_map=[1])        # First output is used\n",
    "\n",
    "ni_run_measurement(M)\n"
   ]
  },
  {
   "cell_type": "markdown",
   "metadata": {},
   "source": [
    "Once the data acquisition task has been performed, the signals ```sin1``` and ```sin2``` that were empty, are now filled with data samples.\n",
    "\n",
    "They can now be used as regular instances of ```measpy.Signal```. See Signal tutorial for more info on signal manipulation. Here are examples:"
   ]
  },
  {
   "cell_type": "code",
   "execution_count": null,
   "metadata": {},
   "outputs": [],
   "source": [
    "# Plot the signal\n",
    "\n",
    "M.in_sig[0].plot()\n",
    "\n",
    "# Plots its Fourier Transform\n",
    "M.rfft().plot()\n",
    "\n",
    "# Plots both signals on the same graph\n",
    "a = M.in_sig[0].plot()\n",
    "M.in_sig[1].plot(ax=a)"
   ]
  },
  {
   "cell_type": "markdown",
   "metadata": {},
   "source": []
  }
 ],
 "metadata": {
  "language_info": {
   "codemirror_mode": {
    "name": "ipython",
    "version": 3
   },
   "file_extension": ".py",
   "mimetype": "text/x-python",
   "name": "python",
   "nbconvert_exporter": "python",
   "pygments_lexer": "ipython3",
   "version": 3
  },
  "orig_nbformat": 4
 },
 "nbformat": 4,
 "nbformat_minor": 2
}
