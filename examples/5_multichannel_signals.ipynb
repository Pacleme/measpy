{
 "cells": [
  {
   "cell_type": "markdown",
   "metadata": {},
   "source": [
    "# Multichannel signals\n",
    "\n",
    "Data in multichannel signals is stored as multicolumn numpy arrays. Other properties can have a unique value, which is hence shared by all channels, be a list of values whose length equals the number of values, or a numpy array."
   ]
  },
  {
   "cell_type": "markdown",
   "metadata": {},
   "source": [
    "### Create a multichannel signal by packing mono signals"
   ]
  },
  {
   "cell_type": "code",
   "execution_count": 10,
   "metadata": {},
   "outputs": [
    {
     "name": "stdout",
     "output_type": "stream",
     "text": [
      "measpy.Signal(fs=44100,\n",
      "desc=['Noise 20.0-20000.0Hz', 'Noise 20.0-20000.0Hz', 'Tri 1000.0Hz'],\n",
      "freq_min=[20.0, 20.0, None],\n",
      "freq_max=[20000.0, 20000.0, None],\n",
      "_rawvalues=[[ 0.45394438  0.22429455 -1.        ]\n",
      " [ 0.96269249  1.14888956 -0.90929705]\n",
      " [ 1.88164033  0.07259205 -0.8185941 ]\n",
      " ...\n",
      " [ 1.09619254  1.12728982 -0.72789116]\n",
      " [-0.34202709  2.22789778 -0.8185941 ]\n",
      " [-0.58308697  0.83772169 -0.90929705]],\n",
      "freq=[None, None, 1000.0],\n",
      ")\n"
     ]
    }
   ],
   "source": [
    "\n",
    "import sys\n",
    "sys.path.insert(0, \"../../measpy\")\n",
    "import measpy as mp\n",
    "\n",
    "s5=mp.Signal.pack((mp.Signal.noise(),mp.Signal.noise(),mp.Signal.tri()))\n",
    "\n",
    "print(s5)"
   ]
  },
  {
   "cell_type": "markdown",
   "metadata": {},
   "source": [
    "Properties can be accessed as in single channel signals"
   ]
  },
  {
   "cell_type": "code",
   "execution_count": 8,
   "metadata": {},
   "outputs": [
    {
     "name": "stdout",
     "output_type": "stream",
     "text": [
      "1.0\n",
      "2.0\n",
      "[0.1 0.2 2. ]\n"
     ]
    },
    {
     "data": {
      "text/plain": [
       "numpy.ndarray"
      ]
     },
     "execution_count": 8,
     "metadata": {},
     "output_type": "execute_result"
    }
   ],
   "source": [
    "print(s5.cal)\n",
    "\n",
    "s5.cal=2.0\n",
    "print(s5.cal)\n",
    "\n",
    "s5.cal=[0.1,0.2,2.0]\n",
    "print(s5.cal)\n",
    "type(s5.cal)"
   ]
  },
  {
   "cell_type": "markdown",
   "metadata": {},
   "source": [
    "Most basic operations on multichannel signal are implemented"
   ]
  },
  {
   "cell_type": "code",
   "execution_count": 9,
   "metadata": {},
   "outputs": [
    {
     "data": {
      "text/plain": [
       "measpy.Signal(fs=44100,\n",
       "desc=['Noise 20.0-20000.0Hz + Noise 20.0-20000.0Hz', 'Noise 20.0-20000.0Hz + Noise 20.0-20000.0Hz', 'Tri 1000.0Hz + Tri 1000.0Hz'],\n",
       "_rawvalues=[[-2.35451573e+02  8.83080999e+01 -5.00000000e-01]\n",
       " [-5.91024381e+01 -4.12566472e+01 -4.54648526e-01]\n",
       " [ 9.93648505e+01 -2.70667959e+01 -4.09297052e-01]\n",
       " ...\n",
       " [ 6.12558755e+02  1.94544189e+00 -3.63945578e-01]\n",
       " [-4.26495144e+01 -1.74513286e+00 -4.09297052e-01]\n",
       " [-8.49482209e+01 -1.13616003e+01 -4.54648526e-01]],\n",
       "freq_min=[20.0, 20.0, None],\n",
       "freq_max=[20000.0, 20000.0, None],\n",
       "freq=[None, None, 1000.0],\n",
       ")"
      ]
     },
     "execution_count": 9,
     "metadata": {},
     "output_type": "execute_result"
    }
   ],
   "source": [
    "s5+s5"
   ]
  },
  {
   "cell_type": "code",
   "execution_count": null,
   "metadata": {},
   "outputs": [],
   "source": []
  }
 ],
 "metadata": {
  "kernelspec": {
   "display_name": "num",
   "language": "python",
   "name": "python3"
  },
  "language_info": {
   "codemirror_mode": {
    "name": "ipython",
    "version": 3
   },
   "file_extension": ".py",
   "mimetype": "text/x-python",
   "name": "python",
   "nbconvert_exporter": "python",
   "pygments_lexer": "ipython3",
   "version": "3.11.4"
  }
 },
 "nbformat": 4,
 "nbformat_minor": 2
}
